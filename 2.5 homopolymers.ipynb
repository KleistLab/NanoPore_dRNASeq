{
 "cells": [
  {
   "cell_type": "code",
   "execution_count": 1,
   "id": "4706adf1-762c-4c24-85f3-9bc85be8eceb",
   "metadata": {},
   "outputs": [
    {
     "name": "stderr",
     "output_type": "stream",
     "text": [
      "<frozen importlib._bootstrap>:241: RuntimeWarning: scipy._lib.messagestream.MessageStream size changed, may indicate binary incompatibility. Expected 56 from C header, got 64 from PyObject\n"
     ]
    },
    {
     "name": "stdout",
     "output_type": "stream",
     "text": [
      "Processing sample eligos/HS_H460/h460_guppy.sam\n",
      "The number of sequences in this sample with N is  87467\n",
      "The number of supplementary alignments in this sample is  1228\n",
      "The number of sequences in this sample is  100000\n"
     ]
    },
    {
     "name": "stderr",
     "output_type": "stream",
     "text": [
      "100%|██████████████████████████████████████████████████████████████████████████████| 100000/100000 [00:27<00:00, 3629.25it/s]\n"
     ]
    },
    {
     "name": "stdout",
     "output_type": "stream",
     "text": [
      "Processing sample eligos/human_ivt/human_ivt_guppy.sam\n",
      "The number of sequences in this sample with N is  62056\n",
      "The number of supplementary alignments in this sample is  4487\n",
      "The number of sequences in this sample is  100000\n"
     ]
    },
    {
     "name": "stderr",
     "output_type": "stream",
     "text": [
      "100%|██████████████████████████████████████████████████████████████████████████████| 100000/100000 [00:12<00:00, 8271.95it/s]\n"
     ]
    },
    {
     "name": "stdout",
     "output_type": "stream",
     "text": [
      "Processing sample mouse/mouse_guppy.sam\n",
      "The number of sequences in this sample with N is  105298\n",
      "The number of supplementary alignments in this sample is  828\n",
      "The number of sequences in this sample is  100000\n"
     ]
    },
    {
     "name": "stderr",
     "output_type": "stream",
     "text": [
      "100%|██████████████████████████████████████████████████████████████████████████████| 100000/100000 [00:14<00:00, 6954.19it/s]\n"
     ]
    },
    {
     "name": "stdout",
     "output_type": "stream",
     "text": [
      "Processing sample epinano/epinano_yeast_rep2/yeast_guppy.sam\n",
      "The number of sequences in this sample with N is  2879\n",
      "The number of supplementary alignments in this sample is  225\n",
      "The number of sequences in this sample is  100000\n"
     ]
    },
    {
     "name": "stderr",
     "output_type": "stream",
     "text": [
      "100%|██████████████████████████████████████████████████████████████████████████████| 100000/100000 [00:39<00:00, 2519.75it/s]\n"
     ]
    },
    {
     "name": "stdout",
     "output_type": "stream",
     "text": [
      "Processing sample celegans/celegans_guppy.sam\n",
      "The number of sequences in this sample with N is  93048\n",
      "The number of supplementary alignments in this sample is  114\n",
      "The number of sequences in this sample is  100000\n"
     ]
    },
    {
     "name": "stderr",
     "output_type": "stream",
     "text": [
      "100%|██████████████████████████████████████████████████████████████████████████████| 100000/100000 [00:11<00:00, 8716.22it/s]\n"
     ]
    },
    {
     "name": "stdout",
     "output_type": "stream",
     "text": [
      "Processing sample regensburg/ecoli/ecoli_guppy.sam\n",
      "The number of sequences in this sample with N is  39423\n",
      "The number of supplementary alignments in this sample is  1429\n",
      "The number of sequences in this sample is  100000\n"
     ]
    },
    {
     "name": "stderr",
     "output_type": "stream",
     "text": [
      "100%|███████████████████████████████████████████████████████████████████████████████| 100000/100000 [03:37<00:00, 459.79it/s]\n"
     ]
    },
    {
     "name": "stdout",
     "output_type": "stream",
     "text": [
      "Processing sample sars2/sars2_guppy.sam\n",
      "The number of sequences in this sample with N is  41497\n",
      "The number of supplementary alignments in this sample is  225\n",
      "The number of sequences in this sample is  100000\n"
     ]
    },
    {
     "name": "stderr",
     "output_type": "stream",
     "text": [
      "100%|███████████████████████████████████████████████████████████████████████████████| 100000/100000 [12:12<00:00, 136.44it/s]\n"
     ]
    },
    {
     "name": "stdout",
     "output_type": "stream",
     "text": [
      "Processing sample sars2/sars2ivt/sars2ivt_guppy.sam\n",
      "The number of sequences in this sample with N is  8265\n",
      "The number of supplementary alignments in this sample is  1712\n",
      "The number of sequences in this sample is  100000\n"
     ]
    },
    {
     "name": "stderr",
     "output_type": "stream",
     "text": [
      "100%|███████████████████████████████████████████████████████████████████████████████| 100000/100000 [01:46<00:00, 935.66it/s]\n"
     ]
    },
    {
     "name": "stdout",
     "output_type": "stream",
     "text": [
      "Processing sample parkersimpson2020/arabidopsis_guppy.sam\n",
      "The number of sequences in this sample with N is  76942\n",
      "The number of supplementary alignments in this sample is  715\n",
      "The number of sequences in this sample is  100000\n"
     ]
    },
    {
     "name": "stderr",
     "output_type": "stream",
     "text": [
      "100%|██████████████████████████████████████████████████████████████████████████████| 100000/100000 [00:10<00:00, 9214.48it/s]\n"
     ]
    },
    {
     "name": "stdout",
     "output_type": "stream",
     "text": [
      "Processing sample nanorms/small_rna_guppy.sam\n",
      "The number of sequences in this sample with N is  12\n",
      "The number of supplementary alignments in this sample is  178\n",
      "The number of sequences in this sample is  31973\n"
     ]
    },
    {
     "name": "stderr",
     "output_type": "stream",
     "text": [
      "100%|████████████████████████████████████████████████████████████████████████████████| 31973/31973 [00:04<00:00, 7065.50it/s]\n"
     ]
    },
    {
     "name": "stdout",
     "output_type": "stream",
     "text": [
      "Processing sample nano3pseq/zebrafish_guppy.sam\n",
      "The number of sequences in this sample with N is  86239\n",
      "The number of supplementary alignments in this sample is  773\n",
      "The number of sequences in this sample is  100000\n"
     ]
    },
    {
     "name": "stderr",
     "output_type": "stream",
     "text": [
      "100%|██████████████████████████████████████████████████████████████████████████████| 100000/100000 [00:22<00:00, 4479.80it/s]\n"
     ]
    },
    {
     "name": "stdout",
     "output_type": "stream",
     "text": [
      "Processing sample regensburg/pfu/pfu_guppy.sam\n",
      "The number of sequences in this sample with N is  1225\n",
      "The number of supplementary alignments in this sample is  1146\n",
      "The number of sequences in this sample is  100000\n"
     ]
    },
    {
     "name": "stderr",
     "output_type": "stream",
     "text": [
      "100%|██████████████████████████████████████████████████████████████████████████████| 100000/100000 [00:43<00:00, 2275.20it/s]\n"
     ]
    }
   ],
   "source": [
    "%matplotlib inline\n",
    "\n",
    "from core import *\n",
    "\n",
    "samples = analysis_set[\"main\"]\n",
    "\n",
    "def get_kmer_profiles(rna, subsample = 100000, min_l = 2, max_l = 7):\n",
    "    infile = samfiles[rna]\n",
    "    print(\"Processing sample\", infile)\n",
    "    seqs = read_samfile(rna, infile, subsample)\n",
    "    \n",
    "    kmer_dict = {kmer:[0, 0, []] for kmer in init_homodict(min_l, max_l)}\n",
    "    \n",
    "    for seq_num in tqdm(range(np.minimum(len(seqs), subsample))):\n",
    "        name, flag, start, cigar, sample_seq, mapq, chromo, qs_base = seqs[seq_num]\n",
    "        cigar_splitted = re.split('([^0-9])',cigar.strip())\n",
    "        cigar_expanded, n_clips = '', 0\n",
    "        for index in range(0, len(cigar_splitted)-1, 2): # items[-1] is actually \"\"\n",
    "            count, symbol = int(cigar_splitted[index]), cigar_splitted[index+1]\n",
    "            if symbol == \"S\":\n",
    "                n_clips += count\n",
    "            else:\n",
    "                cigar_expanded = cigar_expanded + ''.join([symbol * count])\n",
    "        ref_start = int(start) - 1 # samfiles are 1-based\n",
    "        ref_end = ref_start + len(sample_seq) - cigar_expanded.count(\"I\") + cigar_expanded.count(\"D\") + cigar_expanded.count(\"N\") - n_clips\n",
    "        \n",
    "        sample_seq = sample_seq[int(cigar_splitted[0]):] if cigar_splitted[1] == \"S\" else sample_seq\n",
    "        sample_seq = sample_seq[:-int(cigar_splitted[-3])] if cigar_splitted[-2] == \"S\" else sample_seq\n",
    "        ref_seq = refs[rna].fetch(reference = chromo, start = ref_start, end = ref_end)\n",
    "        \n",
    "        if \"N\" in ref_seq or ref_seq.upper() != ref_seq:\n",
    "            continue\n",
    "            \n",
    "        strand = '-' if int(flag) & 0x10 else '+'\n",
    "        if strand == '-':\n",
    "            sample_seq = rev_compl(sample_seq)\n",
    "            ref_seq = rev_compl(ref_seq)\n",
    "            cigar_expanded = cigar_expanded[::-1]\n",
    "        \n",
    "        # Expand sample sequence by adding deletions _ and removing insertions\n",
    "        expanded_sample, p_sample, p_ref, insert_pos = '', 0, 0, {}\n",
    "        p_cigar = 0 if cigar_splitted[1] != \"S\" else 2\n",
    "        \n",
    "        for i in range(len(cigar_expanded)):\n",
    "            if cigar_expanded[i] == \"=\" or cigar_expanded[i] == \"X\":\n",
    "                expanded_sample += sample_seq[p_sample]\n",
    "                p_sample += 1\n",
    "                p_ref += 1\n",
    "            elif cigar_expanded[i] == \"D\":\n",
    "                expanded_sample += \"_\"\n",
    "                p_ref += 1\n",
    "            elif cigar_expanded[i] == \"N\":\n",
    "                expanded_sample += \"N\"\n",
    "                p_ref += 1\n",
    "            elif cigar_expanded[i] == \"I\":\n",
    "                if cigar_expanded[i-1] != \"I\":\n",
    "                    insert_pos[p_ref] = sample_seq[p_sample] if sample_seq[p_sample] != \"T\" else \"U\" \n",
    "                    p_sample += 1\n",
    "                    step = 1\n",
    "                    while cigar_expanded[i+step] == \"I\":\n",
    "                        insert_pos[p_ref] += sample_seq[p_sample] if sample_seq[p_sample] != \"T\" else \"U\"\n",
    "                        step += 1\n",
    "                        p_sample += 1                        \n",
    "        \n",
    "        if len(expanded_sample) != len(ref_seq):\n",
    "            print(\"expansion didn't work!!\")\n",
    "        \n",
    "        ref_seq = ref_seq.replace(\"T\", \"U\")\n",
    "        expanded_sample = expanded_sample.replace(\"T\", \"U\")\n",
    "        \n",
    "        for kmer, homo_start, l in get_homo_pos(ref_seq, max_l):\n",
    "            if \"N\" not in kmer:\n",
    "                sample_kmer = expanded_sample[homo_start:homo_start + l]\n",
    "                ins_flag, base2insert = False, []\n",
    "                for j in range(homo_start, homo_start+l):\n",
    "                    if j in insert_pos:\n",
    "                        ins_flag = True\n",
    "                        base2insert.append((j-i, insert_pos[j]))\n",
    "                if ins_flag == True:\n",
    "                    for loc, insert in base2insert:\n",
    "                        inserted_kmer = sample_kmer[:loc] + insert + sample_kmer[loc:]\n",
    "                    sample_kmer = inserted_kmer\n",
    "                    # print(i, kmer, sample_kmer, inserted_kmer, base2insert)\n",
    "\n",
    "                kmer_dict[kmer][1] += 1\n",
    "                if sample_kmer == kmer:\n",
    "                    kmer_dict[kmer][0] += 1\n",
    "                sample_kmer = is_homop(sample_kmer, kmer[0]) \n",
    "                if sample_kmer != False:\n",
    "                    kmer_dict[kmer][2].append(len(sample_kmer))\n",
    "    return kmer_dict\n",
    "\n",
    "kmer_profiles = {}\n",
    "for sample in samples:\n",
    "    kmer_profiles[sample] = get_kmer_profiles(sample)"
   ]
  },
  {
   "cell_type": "code",
   "execution_count": 11,
   "id": "67dfbd2a-4fe4-4dff-84b2-3142884713c3",
   "metadata": {},
   "outputs": [
    {
     "name": "stdout",
     "output_type": "stream",
     "text": [
      "Human 10\n",
      "Human_IVT 8\n",
      "Mouse 7\n",
      "Yeast 28\n",
      "C. elegans 21\n",
      "E. coli 10\n",
      "SARS2_IVT 7\n",
      "Arabidopsis 9\n",
      "shortRNAs_IVT 21\n",
      "Zebrafish 9\n",
      "P. furiosus 7\n"
     ]
    }
   ],
   "source": [
    "for sample in samples:\n",
    "    if len(kmer_profiles[sample][\"UUUUUUU\"][2]) > 0:\n",
    "        print(sample, np.max(kmer_profiles[sample][\"UUUUUUU\"][2]))"
   ]
  },
  {
   "cell_type": "code",
   "execution_count": 12,
   "id": "fd6b56c7-721f-4117-aba9-31d2538d84f0",
   "metadata": {
    "tags": []
   },
   "outputs": [
    {
     "name": "stdout",
     "output_type": "stream",
     "text": [
      "Human 2465 8101\n",
      "Human_IVT 532 1586\n",
      "Mouse 377 1621\n",
      "Yeast 24791 106154\n",
      "C. elegans 6740 16786\n",
      "E. coli 3807 337723\n",
      "SARS2 120085 2229678\n",
      "SARS2_IVT 75288 277587\n",
      "Arabidopsis 191 595\n",
      "shortRNAs_IVT 3768 4132\n",
      "Zebrafish 1457 14595\n",
      "P. furiosus 255 13881\n"
     ]
    }
   ],
   "source": [
    "for sample in samples:\n",
    "    kmer = \"UUUUU\"\n",
    "    print(sample, kmer_profiles[sample][kmer][0], kmer_profiles[sample][kmer][1])"
   ]
  },
  {
   "cell_type": "code",
   "execution_count": 25,
   "id": "170bd1b8-21f0-4f95-95ab-8aa96f454d8f",
   "metadata": {},
   "outputs": [
    {
     "data": {
      "image/png": "[encoded data removed]",
      "text/plain": [
       "<Figure size 576x504 with 1 Axes>"
      ]
     },
     "metadata": {
      "needs_background": "light"
     },
     "output_type": "display_data"
    }
   ],
   "source": [
    "x, y, hue = [], [], []\n",
    "\n",
    "for sample in samples:\n",
    "    for kmer in sorted(kmer_profiles[sample].keys()):\n",
    "        ref_count = kmer_profiles[sample][kmer][1]\n",
    "        if ref_count > 100: \n",
    "            x.append(str(len(kmer)))\n",
    "            hue.append(kmer[0])\n",
    "            y.append(kmer_profiles[sample][kmer][0] / kmer_profiles[sample][kmer][1])\n",
    "\n",
    "plt.figure(figsize = (8, 7))\n",
    "sns.set_context(\"paper\", font_scale = 2)\n",
    "sns.boxplot(x = x, y = y, hue = hue, fliersize = 3, order = [\"2\", \"3\", \"4\", \"5\", \"6\", \"7\"])\n",
    "sns.despine()\n",
    "plt.xlabel(\"Homopolymer length\"), plt.ylabel(\"Accuracy\")\n",
    "plt.legend(loc = 'upper right', bbox_to_anchor = (1.05, 1), fancybox = True, ncol = 1)\n",
    "plt.savefig(\"images/homopolymer/homopolymer_acc\", bbox_inches = \"tight\")\n",
    "plt.show()"
   ]
  },
  {
   "cell_type": "code",
   "execution_count": 26,
   "id": "de3607f6-25a6-4f58-81a7-8eacdb634b37",
   "metadata": {
    "tags": []
   },
   "outputs": [
    {
     "name": "stdout",
     "output_type": "stream",
     "text": [
      "Human 2428643\n",
      "Human_IVT 2955631\n",
      "Mouse 3454329\n",
      "Yeast 12775102\n",
      "C. elegans 13281185\n",
      "E. coli 28140689\n",
      "SARS2 82314975\n",
      "SARS2_IVT 110471652\n",
      "Arabidopsis 110645789\n",
      "shortRNAs_IVT 111943830\n",
      "Zebrafish 114008534\n",
      "P. furiosus 123251889\n",
      "Human 0\n",
      "Human_IVT 2428643\n",
      "Mouse 2955631\n",
      "Yeast 3454329\n",
      "C. elegans 12775102\n",
      "E. coli 13281185\n",
      "SARS2 28140689\n",
      "SARS2_IVT 82314975\n",
      "Arabidopsis 110471652\n",
      "shortRNAs_IVT 110645789\n",
      "Zebrafish 111943830\n",
      "P. furiosus 114008534\n"
     ]
    }
   ],
   "source": [
    "length = 0\n",
    "for sample in samples:# [\"Human\", \"Human_IVT\"]:\n",
    "    for ref_kmer in kmer_profiles[sample]:\n",
    "        n = len(kmer_profiles[sample][ref_kmer][2])\n",
    "        length += n\n",
    "    print(sample, length)\n",
    "    \n",
    "# np.int8 is not good...\n",
    "x, y = np.empty(length, dtype = np.int64), np.empty(length, dtype = np.int64)\n",
    "hue = np.empty(length, dtype = \"<U32\")\n",
    "\n",
    "l = 0\n",
    "for sample in samples: #[\"Human\", \"Human_IVT\"]:\n",
    "    print(sample, l)\n",
    "    for ref_kmer in kmer_profiles[sample]:\n",
    "        n = len(kmer_profiles[sample][ref_kmer][2])\n",
    "        x[l:l+n] = len(ref_kmer)\n",
    "        hue[l:l+n] = ref_kmer[0]\n",
    "        y[l:l+n] = kmer_profiles[sample][ref_kmer][2]\n",
    "        l = l+n"
   ]
  },
  {
   "cell_type": "code",
   "execution_count": 28,
   "id": "df36dea8-4ca0-4607-8426-2c24d71f7d8e",
   "metadata": {},
   "outputs": [
    {
     "data": {
      "image/png": "[encoded data removed]",
      "text/plain": [
       "<Figure size 576x504 with 1 Axes>"
      ]
     },
     "metadata": {
      "needs_background": "light"
     },
     "output_type": "display_data"
    }
   ],
   "source": [
    "from matplotlib.ticker import ScalarFormatter\n",
    "fig, ax = plt.subplots(figsize = (8, 7))\n",
    "sns.set_context(\"paper\", font_scale = 2)\n",
    "sns.boxplot(x = x, y = y, hue = hue, whis=10, fliersize = 3, order = [2, 3, 4, 5, 6, 7], hue_order=[\"A\", \"C\",\"G\",\"U\"])\n",
    "sns.despine()\n",
    "plt.legend(loc = 'upper right', bbox_to_anchor = (1.18, 1), fancybox = True, ncol = 1)\n",
    "# plt.legend(loc = 'upper right', bbox_to_anchor = (1, 1), fancybox = True, ncol = 4)\n",
    "plt.yscale('symlog', base = 2)\n",
    "ax.yaxis.set_major_formatter(ScalarFormatter())\n",
    "ax.set_ylim([-0.5, 64])\n",
    "plt.yticks((0, 1, 2, 4, 8, 16, 32))\n",
    "plt.xlabel(\"Homopolymer length in reference\"), plt.ylabel(\"Basecalled length\")\n",
    "plt.savefig(\"images/homopolymer/homopolymer_len\", bbox_inches = \"tight\")\n",
    "plt.show()"
   ]
  },
  {
   "cell_type": "code",
   "execution_count": null,
   "id": "88f7c803-f6ca-45c3-9acb-cb5d777bc0f7",
   "metadata": {},
   "outputs": [],
   "source": []
  }
 ],
 "metadata": {
  "kernelspec": {
   "display_name": "Python 3 (ipykernel)",
   "language": "python",
   "name": "python3"
  },
  "language_info": {
   "codemirror_mode": {
    "name": "ipython",
    "version": 3
   },
   "file_extension": ".py",
   "mimetype": "text/x-python",
   "name": "python",
   "nbconvert_exporter": "python",
   "pygments_lexer": "ipython3",
   "version": "3.10.2"
  }
 },
 "nbformat": 4,
 "nbformat_minor": 5
}
